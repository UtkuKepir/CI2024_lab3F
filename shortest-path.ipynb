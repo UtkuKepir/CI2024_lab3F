{
 "cells": [
  {
   "cell_type": "markdown",
   "metadata": {
    "vscode": {
     "languageId": "plaintext"
    }
   },
   "source": [
    "Copyright **`(c)`** 2024 Giovanni Squillero `<giovanni.squillero@polito.it>`  \n",
    "[`https://github.com/squillero/computational-intelligence`](https://github.com/squillero/computational-intelligence)  \n",
    "Free under certain conditions — see the [`license`](https://github.com/squillero/computational-intelligence/blob/master/LICENSE.md) for details.  "
   ]
  },
  {
   "cell_type": "code",
   "execution_count": 59,
   "metadata": {},
   "outputs": [],
   "source": [
    "import logging\n",
    "from itertools import combinations\n",
    "import pandas as pd\n",
    "import numpy as np\n",
    "from geopy.distance import geodesic\n",
    "import networkx as nx\n",
    "\n",
    "from icecream import ic\n",
    "\n",
    "logging.basicConfig(level=logging.DEBUG)"
   ]
  },
  {
   "cell_type": "code",
   "execution_count": 60,
   "metadata": {},
   "outputs": [
    {
     "data": {
      "text/html": [
       "<div>\n",
       "<style scoped>\n",
       "    .dataframe tbody tr th:only-of-type {\n",
       "        vertical-align: middle;\n",
       "    }\n",
       "\n",
       "    .dataframe tbody tr th {\n",
       "        vertical-align: top;\n",
       "    }\n",
       "\n",
       "    .dataframe thead th {\n",
       "        text-align: right;\n",
       "    }\n",
       "</style>\n",
       "<table border=\"1\" class=\"dataframe\">\n",
       "  <thead>\n",
       "    <tr style=\"text-align: right;\">\n",
       "      <th></th>\n",
       "      <th>name</th>\n",
       "      <th>lat</th>\n",
       "      <th>lon</th>\n",
       "    </tr>\n",
       "  </thead>\n",
       "  <tbody>\n",
       "    <tr>\n",
       "      <th>0</th>\n",
       "      <td>Ancona</td>\n",
       "      <td>43.60</td>\n",
       "      <td>13.50</td>\n",
       "    </tr>\n",
       "    <tr>\n",
       "      <th>1</th>\n",
       "      <td>Andria</td>\n",
       "      <td>41.23</td>\n",
       "      <td>16.29</td>\n",
       "    </tr>\n",
       "    <tr>\n",
       "      <th>2</th>\n",
       "      <td>Bari</td>\n",
       "      <td>41.12</td>\n",
       "      <td>16.87</td>\n",
       "    </tr>\n",
       "    <tr>\n",
       "      <th>3</th>\n",
       "      <td>Bergamo</td>\n",
       "      <td>45.70</td>\n",
       "      <td>9.67</td>\n",
       "    </tr>\n",
       "    <tr>\n",
       "      <th>4</th>\n",
       "      <td>Bologna</td>\n",
       "      <td>44.50</td>\n",
       "      <td>11.34</td>\n",
       "    </tr>\n",
       "  </tbody>\n",
       "</table>\n",
       "</div>"
      ],
      "text/plain": [
       "      name    lat    lon\n",
       "0   Ancona  43.60  13.50\n",
       "1   Andria  41.23  16.29\n",
       "2     Bari  41.12  16.87\n",
       "3  Bergamo  45.70   9.67\n",
       "4  Bologna  44.50  11.34"
      ]
     },
     "execution_count": 60,
     "metadata": {},
     "output_type": "execute_result"
    }
   ],
   "source": [
    "CITIES = pd.read_csv('cities/italy.csv', header=None, names=['name', 'lat', 'lon'])\n",
    "DIST_MATRIX = np.zeros((len(CITIES), len(CITIES)))\n",
    "for c1, c2 in combinations(CITIES.itertuples(), 2):\n",
    "    DIST_MATRIX[c1.Index, c2.Index] = DIST_MATRIX[c2.Index, c1.Index] = geodesic(\n",
    "        (c1.lat, c1.lon), (c2.lat, c2.lon)\n",
    "    ).km\n",
    "CITIES.head()"
   ]
  },
  {
   "cell_type": "markdown",
   "metadata": {},
   "source": [
    "## Lab3"
   ]
  },
  {
   "cell_type": "code",
   "execution_count": 61,
   "metadata": {},
   "outputs": [
    {
     "name": "stderr",
     "output_type": "stream",
     "text": [
      "ic| median: np.float64(367.0694334013403)\n"
     ]
    },
    {
     "data": {
      "text/plain": [
       "True"
      ]
     },
     "execution_count": 61,
     "metadata": {},
     "output_type": "execute_result"
    }
   ],
   "source": [
    "median = np.median(DIST_MATRIX.reshape(1, -1))\n",
    "ic(median)\n",
    "# DIST_MATRIX[DIST_MATRIX > median] = np.inf \n",
    "G = nx.Graph()\n",
    "for c1, c2 in combinations(CITIES.itertuples(), 2):\n",
    "    G.add_node(c1.Index, name=c1.name)\n",
    "    G.add_node(c2.Index, name=c2.name)\n",
    "    if DIST_MATRIX[c1.Index, c2.Index] <= median: #simple tweaking: if the distance btw two cities > median, then make the edge not-connected\n",
    "        G.add_edge(c1.Index, c2.Index, weight=DIST_MATRIX[c1.Index, c2.Index])\n",
    "nx.is_connected(G)"
   ]
  },
  {
   "cell_type": "code",
   "execution_count": 62,
   "metadata": {},
   "outputs": [
    {
     "name": "stderr",
     "output_type": "stream",
     "text": [
      "ic| list(G.nodes(data=True))[:10]: [(0, {'name': 'Ancona'}),\n",
      "                                    (1, {'name': 'Andria'}),\n",
      "                                    (2, {'name': 'Bari'}),\n",
      "                                    (3, {'name': 'Bergamo'}),\n",
      "                                    (4, {'name': 'Bologna'}),\n",
      "                                    (5, {'name': 'Bolzano'}),\n",
      "                                    (6, {'name': 'Brescia'}),\n",
      "                                    (7, {'name': 'Cagliari'}),\n",
      "                                    (8, {'name': 'Catania'}),\n",
      "                                    (9, {'name': 'Ferrara'})]\n",
      "ic| list(G.edges(data=True))[:10]: [(0, 1, {'weight': np.float64(349.30401144305745)}),\n",
      "                                    (0, 4, {'weight': np.float64(199.89962990855176)}),\n",
      "                                    (0, 5, {'weight': np.float64(364.0447808729763)}),\n",
      "                                    (0, 6, {'weight': np.float64(338.8096401206489)}),\n",
      "                                    (0, 9, {'weight': np.float64(204.4253666122213)}),\n",
      "                                    (0, 10, {'weight': np.float64(183.29551097355267)}),\n",
      "                                    (0, 11, {'weight': np.float64(290.4028573916701)}),\n",
      "                                    (0, 12, {'weight': np.float64(136.70372473443274)}),\n",
      "                                    (0, 14, {'weight': np.float64(301.99049212290043)}),\n",
      "                                    (0, 15, {'weight': np.float64(241.85490798374872)})]\n",
      "ic| \"Shortest path:\": 'Shortest path:'\n",
      "    [CITIES.loc[node, 'name'] for node in shortest_path]: ['Turin', 'Florence', 'Pescara', 'Bari']\n",
      "ic| 'Path distance:', path_distance: np.float64(867.3039051342079)\n"
     ]
    }
   ],
   "source": [
    "ic(list(G.nodes(data=True))[:10])  \n",
    "ic(list(G.edges(data=True))[:10]) \n",
    "\n",
    "start_city = CITIES[CITIES['name'] == 'Turin'].index[0]\n",
    "end_city = CITIES[CITIES['name'] == 'Bari'].index[0]\n",
    "\n",
    "if start_city in G and end_city in G:\n",
    "\n",
    "    shortest_path = nx.shortest_path(G, source=start_city, target=end_city, weight='weight')\n",
    "    path_distance = nx.shortest_path_length(G, source=start_city, target=end_city, weight='weight')\n",
    "    ic(\"Shortest path:\", [CITIES.loc[node, 'name'] for node in shortest_path])\n",
    "    ic(\"Path distance:\", path_distance)\n",
    "else:\n",
    "    print(\"Selected cities are not in the connected Graph\")"
   ]
  }
 ],
 "metadata": {
  "kernelspec": {
   "display_name": "CI2024",
   "language": "python",
   "name": "python3"
  },
  "language_info": {
   "codemirror_mode": {
    "name": "ipython",
    "version": 3
   },
   "file_extension": ".py",
   "mimetype": "text/x-python",
   "name": "python",
   "nbconvert_exporter": "python",
   "pygments_lexer": "ipython3",
   "version": "3.12.7"
  }
 },
 "nbformat": 4,
 "nbformat_minor": 2
}
